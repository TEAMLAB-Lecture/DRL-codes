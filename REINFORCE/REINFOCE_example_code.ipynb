{
  "nbformat": 4,
  "nbformat_minor": 0,
  "metadata": {
    "colab": {
      "provenance": []
    },
    "kernelspec": {
      "name": "python3",
      "display_name": "Python 3"
    },
    "language_info": {
      "name": "python"
    }
  },
  "cells": [
    {
      "cell_type": "code",
      "source": [],
      "metadata": {
        "id": "T84BWaLoerhs"
      },
      "execution_count": null,
      "outputs": []
    },
    {
      "cell_type": "code",
      "execution_count": null,
      "metadata": {
        "colab": {
          "base_uri": "https://localhost:8080/"
        },
        "id": "MbhMed2QeqOB",
        "outputId": "b1cdb6db-6e92-4aa6-a0b5-5afbfb9d6363"
      },
      "outputs": [
        {
          "output_type": "stream",
          "name": "stdout",
          "text": [
            "Input: tensor([[0.2438, 0.0753]])\n",
            "Output: tensor([[0.2808, 0.2489, 0.2145, 0.2557]], grad_fn=<SoftmaxBackward0>)\n"
          ]
        }
      ],
      "source": [
        "import torch\n",
        "import torch.nn as nn\n",
        "import torch.nn.functional as F\n",
        "\n",
        "class PolicyNet(nn.Module):\n",
        "    def __init__(self):\n",
        "        super(PolicyNet, self).__init__()\n",
        "        self.fc1 = nn.Linear(2, 16)\n",
        "        self.fc2 = nn.Linear(16, 4)\n",
        "\n",
        "    def forward(self, x):\n",
        "        x = F.relu(self.fc1(x))\n",
        "        x = self.fc2(x)\n",
        "        x = F.softmax(x, dim=1)\n",
        "        return x\n",
        "\n",
        "# 모델 인스턴스 생성\n",
        "policy_net = PolicyNet()\n",
        "\n",
        "# 임의의 입력 생성\n",
        "test_input = torch.rand(1, 2)  # 1x2 크기의 텐서, 임의의 두 개의 값 포함\n",
        "\n",
        "# 모델 실행\n",
        "output = policy_net(test_input)\n",
        "\n",
        "# 결과 출력\n",
        "print(\"Input:\", test_input)\n",
        "print(\"Output:\", output)\n"
      ]
    },
    {
      "cell_type": "code",
      "source": [
        "import numpy as np\n",
        "\n",
        "# 행동 선택을 위한 확률 분포 예시\n",
        "cpu_action_probs = [0.1, 0.2, 0.6, 0.1]  # 각 행동에 대한 확률\n",
        "\n",
        "# 선택된 행동을 기록하기 위한 배열\n",
        "actions_selected = []\n",
        "\n",
        "# 100번의 선택을 시뮬레이션\n",
        "for _ in range(100):\n",
        "    action = np.random.choice(np.arange(4), p=cpu_action_probs)\n",
        "    actions_selected.append(action)\n",
        "\n",
        "# 각 행동이 몇 번 선택되었는지 계산\n",
        "action_counts = {action: actions_selected.count(action) for action in range(4)}\n",
        "\n",
        "print(\"Action probabilities:\", cpu_action_probs)\n",
        "print(\"Action counts over 100 selections:\", action_counts)\n"
      ],
      "metadata": {
        "colab": {
          "base_uri": "https://localhost:8080/"
        },
        "id": "7PsPtUk0hDiE",
        "outputId": "795c29dd-9a0a-41a6-f242-2b8eecd8040e"
      },
      "execution_count": null,
      "outputs": [
        {
          "output_type": "stream",
          "name": "stdout",
          "text": [
            "Action probabilities: [0.1, 0.2, 0.6, 0.1]\n",
            "Action counts over 100 selections: {0: 10, 1: 24, 2: 61, 3: 5}\n"
          ]
        }
      ]
    },
    {
      "cell_type": "code",
      "source": [
        "import numpy as np\n",
        "import torch\n",
        "import torch.nn as nn\n",
        "import torch.nn.functional as F\n",
        "import matplotlib.pyplot as plt\n"
      ],
      "metadata": {
        "id": "7PHIiifXhiTd"
      },
      "execution_count": null,
      "outputs": []
    },
    {
      "cell_type": "code",
      "source": [
        "class Grid:\n",
        "    def __init__(self, size=5, start_pos=(0, 0), exit_pos=(4, 4)):\n",
        "        self.size = size\n",
        "        self.exit_pos = exit_pos\n",
        "        self.figure_pos = start_pos\n",
        "\n",
        "    def move(self, direction):\n",
        "        x, y = self.figure_pos\n",
        "        if direction == 0 and y > 0:  # up\n",
        "            self.figure_pos = (x, y-1)\n",
        "        elif direction == 1 and y < self.size-1:  # down\n",
        "            self.figure_pos = (x, y+1)\n",
        "        elif direction == 2 and x > 0:  # left\n",
        "            self.figure_pos = (x-1, y)\n",
        "        elif direction == 3 and x < self.size-1:  # right\n",
        "            self.figure_pos = (x+1, y)\n",
        "\n",
        "    def is_at_exit(self):\n",
        "        return self.figure_pos == self.exit_pos\n",
        "\n",
        "    def get_state(self, device='cpu'):\n",
        "        return torch.FloatTensor(self.figure_pos).unsqueeze(0).to(device)\n",
        "\n",
        "class PolicyNet(nn.Module):\n",
        "    def __init__(self):\n",
        "        super(PolicyNet, self).__init__()\n",
        "        self.fc1 = nn.Linear(2, 16)\n",
        "        self.fc2 = nn.Linear(16, 4)\n",
        "\n",
        "    def forward(self, x):\n",
        "        x = F.relu(self.fc1(x))\n",
        "        x = self.fc2(x)\n",
        "        x = F.softmax(x, dim=1)\n",
        "        return x\n"
      ],
      "metadata": {
        "id": "4ucsGOxzhix3"
      },
      "execution_count": null,
      "outputs": []
    },
    {
      "cell_type": "code",
      "source": [
        "def visualize_episode(grid, policy_net, device='cpu', max_episode_len=100):\n",
        "    state = grid.get_state(device)\n",
        "    fig, ax = plt.subplots()\n",
        "    ax.set_xlim(-0.5, grid.size-0.5)\n",
        "    ax.set_ylim(-0.5, grid.size-0.5)\n",
        "    ax.set_xticks(np.arange(-0.5, grid.size, 1), minor=True)\n",
        "    ax.set_yticks(np.arange(-0.5, grid.size, 1), minor=True)\n",
        "    ax.grid(which='minor', color='w', linestyle='-', linewidth=2)\n",
        "    ax.set_aspect('equal')\n",
        "\n",
        "    for i in range(grid.size):\n",
        "        for j in range(grid.size):\n",
        "            if (i, j) == grid.exit_pos:\n",
        "                ax.text(i, j, 'Exit', ha='center', va='center', color='green')\n",
        "\n",
        "    policy_net.eval()\n",
        "    with torch.no_grad():\n",
        "        for step in range(max_episode_len):\n",
        "            action_probs = policy_net(state).squeeze()\n",
        "            log_probs = torch.log(action_probs)\n",
        "            cpu_action_probs = action_probs.detach().cpu().numpy()\n",
        "            action = np.random.choice(np.arange(4), p=cpu_action_probs)\n",
        "\n",
        "            grid.move(action)\n",
        "            next_state = grid.get_state(device)\n",
        "            reward = -0.1 if not grid.is_at_exit() else 0\n",
        "\n",
        "            ax.plot(*grid.figure_pos, 'bo')  # Draw the agent position\n",
        "            plt.pause(0.5)  # Pause to show updates\n",
        "\n",
        "            if reward == 0 or grid.is_at_exit():\n",
        "                break\n",
        "\n",
        "            state = next_state\n",
        "\n",
        "    plt.show()\n"
      ],
      "metadata": {
        "id": "1caJ3JEVhlFM"
      },
      "execution_count": null,
      "outputs": []
    },
    {
      "cell_type": "code",
      "source": [
        "grid = Grid(size=5, start_pos=(0, 0), exit_pos=(4, 4))\n",
        "policy_net = PolicyNet()\n",
        "visualize_episode(grid, policy_net)\n"
      ],
      "metadata": {
        "colab": {
          "base_uri": "https://localhost:8080/",
          "height": 768
        },
        "collapsed": true,
        "id": "0bDO5Xf-hmwD",
        "outputId": "73aeb7ac-8253-425a-b8a4-32b29be62352"
      },
      "execution_count": null,
      "outputs": [
        {
          "output_type": "display_data",
          "data": {
            "text/plain": [
              "<Figure size 640x480 with 1 Axes>"
            ],
            "image/png": "[encoded data removed]"
          },
          "metadata": {}
        },
        {
          "output_type": "error",
          "ename": "KeyboardInterrupt",
          "evalue": "",
          "traceback": [
            "\u001b[0;31m---------------------------------------------------------------------------\u001b[0m",
            "\u001b[0;31mKeyboardInterrupt\u001b[0m                         Traceback (most recent call last)",
            "\u001b[0;32m<ipython-input-12-6116c8b6c556>\u001b[0m in \u001b[0;36m<cell line: 3>\u001b[0;34m()\u001b[0m\n\u001b[1;32m      1\u001b[0m \u001b[0mgrid\u001b[0m \u001b[0;34m=\u001b[0m \u001b[0mGrid\u001b[0m\u001b[0;34m(\u001b[0m\u001b[0msize\u001b[0m\u001b[0;34m=\u001b[0m\u001b[0;36m5\u001b[0m\u001b[0;34m,\u001b[0m \u001b[0mstart_pos\u001b[0m\u001b[0;34m=\u001b[0m\u001b[0;34m(\u001b[0m\u001b[0;36m0\u001b[0m\u001b[0;34m,\u001b[0m \u001b[0;36m0\u001b[0m\u001b[0;34m)\u001b[0m\u001b[0;34m,\u001b[0m \u001b[0mexit_pos\u001b[0m\u001b[0;34m=\u001b[0m\u001b[0;34m(\u001b[0m\u001b[0;36m4\u001b[0m\u001b[0;34m,\u001b[0m \u001b[0;36m4\u001b[0m\u001b[0;34m)\u001b[0m\u001b[0;34m)\u001b[0m\u001b[0;34m\u001b[0m\u001b[0;34m\u001b[0m\u001b[0m\n\u001b[1;32m      2\u001b[0m \u001b[0mpolicy_net\u001b[0m \u001b[0;34m=\u001b[0m \u001b[0mPolicyNet\u001b[0m\u001b[0;34m(\u001b[0m\u001b[0;34m)\u001b[0m\u001b[0;34m\u001b[0m\u001b[0;34m\u001b[0m\u001b[0m\n\u001b[0;32m----> 3\u001b[0;31m \u001b[0mvisualize_episode\u001b[0m\u001b[0;34m(\u001b[0m\u001b[0mgrid\u001b[0m\u001b[0;34m,\u001b[0m \u001b[0mpolicy_net\u001b[0m\u001b[0;34m)\u001b[0m\u001b[0;34m\u001b[0m\u001b[0;34m\u001b[0m\u001b[0m\n\u001b[0m",
            "\u001b[0;32m<ipython-input-9-f2fd16278779>\u001b[0m in \u001b[0;36mvisualize_episode\u001b[0;34m(grid, policy_net, device, max_episode_len)\u001b[0m\n\u001b[1;32m     27\u001b[0m \u001b[0;34m\u001b[0m\u001b[0m\n\u001b[1;32m     28\u001b[0m             \u001b[0max\u001b[0m\u001b[0;34m.\u001b[0m\u001b[0mplot\u001b[0m\u001b[0;34m(\u001b[0m\u001b[0;34m*\u001b[0m\u001b[0mgrid\u001b[0m\u001b[0;34m.\u001b[0m\u001b[0mfigure_pos\u001b[0m\u001b[0;34m,\u001b[0m \u001b[0;34m'bo'\u001b[0m\u001b[0;34m)\u001b[0m  \u001b[0;31m# Draw the agent position\u001b[0m\u001b[0;34m\u001b[0m\u001b[0;34m\u001b[0m\u001b[0m\n\u001b[0;32m---> 29\u001b[0;31m             \u001b[0mplt\u001b[0m\u001b[0;34m.\u001b[0m\u001b[0mpause\u001b[0m\u001b[0;34m(\u001b[0m\u001b[0;36m0.5\u001b[0m\u001b[0;34m)\u001b[0m  \u001b[0;31m# Pause to show updates\u001b[0m\u001b[0;34m\u001b[0m\u001b[0;34m\u001b[0m\u001b[0m\n\u001b[0m\u001b[1;32m     30\u001b[0m \u001b[0;34m\u001b[0m\u001b[0m\n\u001b[1;32m     31\u001b[0m             \u001b[0;32mif\u001b[0m \u001b[0mreward\u001b[0m \u001b[0;34m==\u001b[0m \u001b[0;36m0\u001b[0m \u001b[0;32mor\u001b[0m \u001b[0mgrid\u001b[0m\u001b[0;34m.\u001b[0m\u001b[0mis_at_exit\u001b[0m\u001b[0;34m(\u001b[0m\u001b[0;34m)\u001b[0m\u001b[0;34m:\u001b[0m\u001b[0;34m\u001b[0m\u001b[0;34m\u001b[0m\u001b[0m\n",
            "\u001b[0;32m/usr/local/lib/python3.10/dist-packages/matplotlib/pyplot.py\u001b[0m in \u001b[0;36mpause\u001b[0;34m(interval)\u001b[0m\n\u001b[1;32m    580\u001b[0m             \u001b[0mcanvas\u001b[0m\u001b[0;34m.\u001b[0m\u001b[0mdraw_idle\u001b[0m\u001b[0;34m(\u001b[0m\u001b[0;34m)\u001b[0m\u001b[0;34m\u001b[0m\u001b[0;34m\u001b[0m\u001b[0m\n\u001b[1;32m    581\u001b[0m         \u001b[0mshow\u001b[0m\u001b[0;34m(\u001b[0m\u001b[0mblock\u001b[0m\u001b[0;34m=\u001b[0m\u001b[0;32mFalse\u001b[0m\u001b[0;34m)\u001b[0m\u001b[0;34m\u001b[0m\u001b[0;34m\u001b[0m\u001b[0m\n\u001b[0;32m--> 582\u001b[0;31m         \u001b[0mcanvas\u001b[0m\u001b[0;34m.\u001b[0m\u001b[0mstart_event_loop\u001b[0m\u001b[0;34m(\u001b[0m\u001b[0minterval\u001b[0m\u001b[0;34m)\u001b[0m\u001b[0;34m\u001b[0m\u001b[0;34m\u001b[0m\u001b[0m\n\u001b[0m\u001b[1;32m    583\u001b[0m     \u001b[0;32melse\u001b[0m\u001b[0;34m:\u001b[0m\u001b[0;34m\u001b[0m\u001b[0;34m\u001b[0m\u001b[0m\n\u001b[1;32m    584\u001b[0m         \u001b[0mtime\u001b[0m\u001b[0;34m.\u001b[0m\u001b[0msleep\u001b[0m\u001b[0;34m(\u001b[0m\u001b[0minterval\u001b[0m\u001b[0;34m)\u001b[0m\u001b[0;34m\u001b[0m\u001b[0;34m\u001b[0m\u001b[0m\n",
            "\u001b[0;32m/usr/local/lib/python3.10/dist-packages/matplotlib/backend_bases.py\u001b[0m in \u001b[0;36mstart_event_loop\u001b[0;34m(self, timeout)\u001b[0m\n\u001b[1;32m   2551\u001b[0m         \u001b[0;32mwhile\u001b[0m \u001b[0mself\u001b[0m\u001b[0;34m.\u001b[0m\u001b[0m_looping\u001b[0m \u001b[0;32mand\u001b[0m \u001b[0mcounter\u001b[0m \u001b[0;34m*\u001b[0m \u001b[0mtimestep\u001b[0m \u001b[0;34m<\u001b[0m \u001b[0mtimeout\u001b[0m\u001b[0;34m:\u001b[0m\u001b[0;34m\u001b[0m\u001b[0;34m\u001b[0m\u001b[0m\n\u001b[1;32m   2552\u001b[0m             \u001b[0mself\u001b[0m\u001b[0;34m.\u001b[0m\u001b[0mflush_events\u001b[0m\u001b[0;34m(\u001b[0m\u001b[0;34m)\u001b[0m\u001b[0;34m\u001b[0m\u001b[0;34m\u001b[0m\u001b[0m\n\u001b[0;32m-> 2553\u001b[0;31m             \u001b[0mtime\u001b[0m\u001b[0;34m.\u001b[0m\u001b[0msleep\u001b[0m\u001b[0;34m(\u001b[0m\u001b[0mtimestep\u001b[0m\u001b[0;34m)\u001b[0m\u001b[0;34m\u001b[0m\u001b[0;34m\u001b[0m\u001b[0m\n\u001b[0m\u001b[1;32m   2554\u001b[0m             \u001b[0mcounter\u001b[0m \u001b[0;34m+=\u001b[0m \u001b[0;36m1\u001b[0m\u001b[0;34m\u001b[0m\u001b[0;34m\u001b[0m\u001b[0m\n\u001b[1;32m   2555\u001b[0m \u001b[0;34m\u001b[0m\u001b[0m\n",
            "\u001b[0;31mKeyboardInterrupt\u001b[0m: "
          ]
        }
      ]
    },
    {
      "cell_type": "code",
      "source": [
        "!pip install imageio imageio-ffmpeg matplotlib"
      ],
      "metadata": {
        "id": "IyfWSXJciRFY"
      },
      "execution_count": null,
      "outputs": []
    },
    {
      "cell_type": "code",
      "source": [
        "import numpy as np\n",
        "import torch\n",
        "import torch.nn as nn\n",
        "import torch.nn.functional as F\n",
        "import matplotlib.pyplot as plt\n",
        "import imageio\n",
        "\n",
        "class Grid:\n",
        "    def __init__(self, size=5, start_pos=(0, 0), exit_pos=(4, 4)):\n",
        "        self.size = size\n",
        "        self.exit_pos = exit_pos\n",
        "        self.figure_pos = start_pos\n",
        "\n",
        "    def move(self, direction):\n",
        "        x, y = self.figure_pos\n",
        "        if direction == 0 and y > 0:  # up\n",
        "            self.figure_pos = (x, y-1)\n",
        "        elif direction == 1 and y < self.size-1:  # down\n",
        "            self.figure_pos = (x, y+1)\n",
        "        elif direction == 2 and x > 0:  # left\n",
        "            self.figure_pos = (x-1, y)\n",
        "        elif direction == 3 and x < self.size-1:  # right\n",
        "            self.figure_pos = (x+1, y)\n",
        "\n",
        "    def is_at_exit(self):\n",
        "        return self.figure_pos == self.exit_pos\n",
        "\n",
        "    def get_state(self, device='cpu'):\n",
        "        return torch.FloatTensor(self.figure_pos).unsqueeze(0).to(device)\n",
        "\n",
        "class PolicyNet(nn.Module):\n",
        "    def __init__(self):\n",
        "        super(PolicyNet, self).__init__()\n",
        "        self.fc1 = nn.Linear(2, 16)\n",
        "        self.fc2 = nn.Linear(16, 4)\n",
        "\n",
        "    def forward(self, x):\n",
        "        x = F.relu(self.fc1(x))\n",
        "        x = self.fc2(x)\n",
        "        x = F.softmax(x, dim=1)\n",
        "        return x\n",
        "\n",
        "def visualize_episode(grid, policy_net, device='cpu', max_episode_len=100):\n",
        "    frames = []  # Store each frame here to make a video\n",
        "    policy_net.eval()\n",
        "\n",
        "    with torch.no_grad():\n",
        "        for step in range(max_episode_len):\n",
        "            plt.figure(figsize=(5, 5))\n",
        "            plt.xticks([])\n",
        "            plt.yticks([])\n",
        "            plt.imshow(np.zeros((grid.size, grid.size)), cmap='gray', vmin=0, vmax=1)\n",
        "            plt.text(grid.exit_pos[0], grid.exit_pos[1], 'Exit', ha='center', va='center', color='g', fontsize=12)\n",
        "            plt.text(grid.figure_pos[0], grid.figure_pos[1], 'Agent', ha='center', va='center', color='b', fontsize=12)\n",
        "            plt.grid('on')\n",
        "            plt.title(f\"Step: {step+1}\")\n",
        "\n",
        "            # Capture the plot as an image\n",
        "            plt.savefig('frame.png')\n",
        "            plt.close()\n",
        "            frames.append(imageio.imread('frame.png'))\n",
        "\n",
        "            state = grid.get_state(device)\n",
        "            action_probs = policy_net(state).squeeze()\n",
        "            action = np.random.choice(np.arange(4), p=action_probs.detach().cpu().numpy())\n",
        "            grid.move(action)\n",
        "            if grid.is_at_exit():\n",
        "                break\n",
        "\n",
        "    # Create a GIF\n",
        "    imageio.mimsave('game_progress.gif', frames, fps=1)\n",
        "\n",
        "    # Create an MP4 video\n",
        "    imageio.mimsave('game_progress.mp4', frames, fps=1)\n",
        "\n",
        "# Example Usage\n",
        "grid = Grid(size=5, start_pos=(0, 0), exit_pos=(4, 4))\n",
        "policy_net = PolicyNet()\n",
        "visualize_episode(grid, policy_net)\n"
      ],
      "metadata": {
        "colab": {
          "base_uri": "https://localhost:8080/"
        },
        "id": "SYfociadiF8D",
        "outputId": "a84d13dc-3aa5-4737-856f-13b8fd1279e2"
      },
      "execution_count": null,
      "outputs": [
        {
          "output_type": "stream",
          "name": "stderr",
          "text": [
            "<ipython-input-16-e3bae8a88aa8>:61: DeprecationWarning: Starting with ImageIO v3 the behavior of this function will switch to that of iio.v3.imread. To keep the current behavior (and make this warning disappear) use `import imageio.v2 as imageio` or call `imageio.v2.imread` directly.\n",
            "  frames.append(imageio.imread('frame.png'))\n",
            "WARNING:imageio_ffmpeg:IMAGEIO FFMPEG_WRITER WARNING: input image is not divisible by macro_block_size=16, resizing from (500, 500) to (512, 512) to ensure video compatibility with most codecs and players. To prevent resizing, make your input image divisible by the macro_block_size or set the macro_block_size to 1 (risking incompatibility).\n"
          ]
        }
      ]
    },
    {
      "cell_type": "code",
      "source": [
        "import numpy as np\n",
        "import torch\n",
        "import torch.nn as nn\n",
        "import torch.nn.functional as F\n",
        "import matplotlib.pyplot as plt\n",
        "import imageio\n",
        "\n",
        "class Grid:\n",
        "    def __init__(self, size=5, start_pos=(0, 0), exit_pos=(4, 4)):\n",
        "        self.size = size\n",
        "        self.exit_pos = exit_pos\n",
        "        self.figure_pos = start_pos\n",
        "\n",
        "    def move(self, direction):\n",
        "        x, y = self.figure_pos\n",
        "        if direction == 0 and y > 0:  # up\n",
        "            self.figure_pos = (x, y-1)\n",
        "        elif direction == 1 and y < self.size-1:  # down\n",
        "            self.figure_pos = (x, y+1)\n",
        "        elif direction == 2 and x > 0:  # left\n",
        "            self.figure_pos = (x-1, y)\n",
        "        elif direction == 3 and x < self.size-1:  # right\n",
        "            self.figure_pos = (x+1, y)\n",
        "\n",
        "    def is_at_exit(self):\n",
        "        return self.figure_pos == self.exit_pos\n",
        "\n",
        "    def get_state(self, device='cpu'):\n",
        "        return torch.FloatTensor(self.figure_pos).unsqueeze(0).to(device)\n",
        "\n",
        "class PolicyNet(nn.Module):\n",
        "    def __init__(self):\n",
        "        super(PolicyNet, self).__init__()\n",
        "        self.fc1 = nn.Linear(2, 16)\n",
        "        self.fc2 = nn.Linear(16, 4)\n",
        "\n",
        "    def forward(self, x):\n",
        "        x = F.relu(self.fc1(x))\n",
        "        x = self.fc2(x)\n",
        "        x = F.softmax(x, dim=1)\n",
        "        return x\n",
        "\n",
        "def visualize_episode(grid, policy_net, device='cpu', max_episode_len=100):\n",
        "    frames = []  # Store each frame here to make a video\n",
        "    episode_info = []  # To store episode information\n",
        "\n",
        "    policy_net.eval()\n",
        "    with torch.no_grad():\n",
        "        for step in range(max_episode_len):\n",
        "            plt.figure(figsize=(5, 5))\n",
        "            plt.xticks([])\n",
        "            plt.yticks([])\n",
        "            plt.imshow(np.zeros((grid.size, grid.size)), cmap='gray', vmin=0, vmax=1)\n",
        "            plt.text(grid.exit_pos[0], grid.exit_pos[1], 'Exit', ha='center', va='center', color='green', fontsize=12)\n",
        "            plt.text(grid.figure_pos[0], grid.figure_pos[1], 'Agent', ha='center', va='center', color='blue', fontsize=12)\n",
        "            plt.grid(True)\n",
        "            plt.title(f\"Step: {step + 1}\")\n",
        "            plt.savefig('frame.png')\n",
        "            plt.close()\n",
        "            frames.append(imageio.imread('frame.png'))\n",
        "\n",
        "            state = grid.get_state(device)\n",
        "            action_probs = policy_net(state).squeeze()\n",
        "            action = np.random.choice(np.arange(4), p=action_probs.detach().cpu().numpy())\n",
        "            episode_info.append((state.cpu().numpy().tolist(), action))  # Store state and action\n",
        "\n",
        "            grid.move(action)\n",
        "            if grid.is_at_exit():\n",
        "                break\n",
        "\n",
        "    # Output episode information\n",
        "    for info in episode_info:\n",
        "        print(f\"State: {info[0]}, Action: {action_probs}\")\n",
        "\n",
        "    # Save the visualized episode\n",
        "    imageio.mimsave('game_progress.gif', frames, fps=1)\n",
        "    imageio.mimsave('game_progress.mp4', frames, fps=1)\n",
        "\n",
        "# Example Usage\n",
        "grid = Grid(size=5, start_pos=(0, 0), exit_pos=(4, 4))\n",
        "policy_net = PolicyNet()\n",
        "visualize_episode(grid, policy_net)\n"
      ],
      "metadata": {
        "colab": {
          "base_uri": "https://localhost:8080/"
        },
        "id": "8qrZ9c4SiMC1",
        "outputId": "56eba37b-97e9-4710-f55d-54bf2123ae66"
      },
      "execution_count": null,
      "outputs": [
        {
          "output_type": "stream",
          "name": "stderr",
          "text": [
            "<ipython-input-1-7cc295032133>:60: DeprecationWarning: Starting with ImageIO v3 the behavior of this function will switch to that of iio.v3.imread. To keep the current behavior (and make this warning disappear) use `import imageio.v2 as imageio` or call `imageio.v2.imread` directly.\n",
            "  frames.append(imageio.imread('frame.png'))\n"
          ]
        },
        {
          "output_type": "stream",
          "name": "stdout",
          "text": [
            "State: [[0.0, 0.0]], Action: tensor([0.1404, 0.2229, 0.0406, 0.5961])\n",
            "State: [[0.0, 0.0]], Action: tensor([0.1404, 0.2229, 0.0406, 0.5961])\n",
            "State: [[0.0, 0.0]], Action: tensor([0.1404, 0.2229, 0.0406, 0.5961])\n",
            "State: [[0.0, 0.0]], Action: tensor([0.1404, 0.2229, 0.0406, 0.5961])\n",
            "State: [[1.0, 0.0]], Action: tensor([0.1404, 0.2229, 0.0406, 0.5961])\n",
            "State: [[1.0, 1.0]], Action: tensor([0.1404, 0.2229, 0.0406, 0.5961])\n",
            "State: [[1.0, 2.0]], Action: tensor([0.1404, 0.2229, 0.0406, 0.5961])\n",
            "State: [[1.0, 3.0]], Action: tensor([0.1404, 0.2229, 0.0406, 0.5961])\n",
            "State: [[2.0, 3.0]], Action: tensor([0.1404, 0.2229, 0.0406, 0.5961])\n",
            "State: [[3.0, 3.0]], Action: tensor([0.1404, 0.2229, 0.0406, 0.5961])\n",
            "State: [[4.0, 3.0]], Action: tensor([0.1404, 0.2229, 0.0406, 0.5961])\n",
            "State: [[4.0, 3.0]], Action: tensor([0.1404, 0.2229, 0.0406, 0.5961])\n"
          ]
        },
        {
          "output_type": "stream",
          "name": "stderr",
          "text": [
            "WARNING:imageio_ffmpeg:IMAGEIO FFMPEG_WRITER WARNING: input image is not divisible by macro_block_size=16, resizing from (500, 500) to (512, 512) to ensure video compatibility with most codecs and players. To prevent resizing, make your input image divisible by the macro_block_size or set the macro_block_size to 1 (risking incompatibility).\n"
          ]
        }
      ]
    },
    {
      "cell_type": "code",
      "source": [],
      "metadata": {
        "id": "ruNET7V0i2Js"
      },
      "execution_count": null,
      "outputs": []
    }
  ]
}